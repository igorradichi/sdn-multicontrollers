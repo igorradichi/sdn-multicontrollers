{
 "cells": [
  {
   "cell_type": "markdown",
   "metadata": {},
   "source": [
    "## Shell"
   ]
  },
  {
   "cell_type": "markdown",
   "metadata": {},
   "source": [
    "### initialization"
   ]
  },
  {
   "cell_type": "code",
   "execution_count": null,
   "metadata": {},
   "outputs": [],
   "source": [
    "sudo python3 init.py"
   ]
  },
  {
   "cell_type": "markdown",
   "metadata": {},
   "source": [
    "### infrastructure"
   ]
  },
  {
   "cell_type": "markdown",
   "metadata": {},
   "source": [
    "#### Networks"
   ]
  },
  {
   "cell_type": "code",
   "execution_count": null,
   "metadata": {},
   "outputs": [],
   "source": [
    "sudo python3 network.py net1.conf info"
   ]
  },
  {
   "cell_type": "code",
   "execution_count": null,
   "metadata": {},
   "outputs": [],
   "source": [
    "sudo python3 network.py net2.conf info"
   ]
  },
  {
   "cell_type": "markdown",
   "metadata": {},
   "source": [
    "#### Switches"
   ]
  },
  {
   "cell_type": "code",
   "execution_count": null,
   "metadata": {},
   "outputs": [],
   "source": [
    "sudo ovs-ofctl -O OpenFlow15 dump-flows s1"
   ]
  },
  {
   "cell_type": "code",
   "execution_count": null,
   "metadata": {},
   "outputs": [],
   "source": [
    "sudo ovs-vsctl set-fail-mode s1 standalone"
   ]
  },
  {
   "cell_type": "markdown",
   "metadata": {},
   "source": [
    "### control"
   ]
  },
  {
   "cell_type": "code",
   "execution_count": null,
   "metadata": {},
   "outputs": [],
   "source": [
    "ryu-manager --ofp-tcp-listen-port 6001 --wsapi-port 50001 --config-file c1.conf controller.py ryu.app.ofctl_rest"
   ]
  },
  {
   "cell_type": "code",
   "execution_count": null,
   "metadata": {},
   "outputs": [],
   "source": [
    "ryu-manager --ofp-tcp-listen-port 6002 --wsapi-port 50002 --config-file c2.conf controller.py ryu.app.ofctl_rest"
   ]
  },
  {
   "cell_type": "code",
   "execution_count": null,
   "metadata": {},
   "outputs": [],
   "source": [
    "ryu-manager --ofp-tcp-listen-port 6003 --wsapi-port 50003 --config-file c3.conf controller.py ryu.app.ofctl_rest"
   ]
  },
  {
   "cell_type": "code",
   "execution_count": null,
   "metadata": {},
   "outputs": [],
   "source": [
    "ryu-manager --ofp-tcp-listen-port 6004 --wsapi-port 50004 --config-file c4.conf controller.py ryu.app.ofctl_rest"
   ]
  },
  {
   "cell_type": "markdown",
   "metadata": {},
   "source": [
    "# Redis DBS"
   ]
  },
  {
   "cell_type": "markdown",
   "metadata": {},
   "source": [
    "### controllers"
   ]
  },
  {
   "cell_type": "code",
   "execution_count": 39,
   "metadata": {},
   "outputs": [
    {
     "name": "stdout",
     "output_type": "stream",
     "text": [
      "c4 >>> 6004\n",
      "c1 >>> 6001\n",
      "c3 >>> 6003\n",
      "c2 >>> 6002\n"
     ]
    }
   ],
   "source": [
    "import redis\n",
    "ip = '127.0.0.1'\n",
    "r = redis.Redis(host=ip, port=6379, db = 0, decode_responses=True)\n",
    "keys = r.keys()\n",
    "for k in keys:\n",
    "    print(\"{} >>> {}\".format(k,r.get(k)))"
   ]
  },
  {
   "cell_type": "markdown",
   "metadata": {},
   "source": [
    "### networks"
   ]
  },
  {
   "cell_type": "code",
   "execution_count": 1,
   "metadata": {},
   "outputs": [
    {
     "name": "stdout",
     "output_type": "stream",
     "text": [
      "1 >>> {'c1': \"{'port': b'6001', 'reqs': 30, 'connected': 0}\", 'c2': \"{'port': b'6002', 'reqs': 32, 'connected': 0}\", 'datapaths': \"['1', '2']\", 'masterCredits': '2'}\n",
      "2 >>> {'c3': \"{'port': b'6003', 'reqs': 0}\", 'c4': \"{'port': b'6004', 'reqs': 0}\"}\n"
     ]
    }
   ],
   "source": [
    "import redis\n",
    "ip = '127.0.0.1'\n",
    "r = redis.Redis(host=ip, port=6379, db = 1, decode_responses=True)\n",
    "key_list = r.keys('*')\n",
    "for keys in key_list:\n",
    "    print(\"{} >>> {}\".format(keys, r.hgetall(keys)))"
   ]
  },
  {
   "cell_type": "markdown",
   "metadata": {},
   "source": [
    "### namespaces"
   ]
  },
  {
   "cell_type": "code",
   "execution_count": 17,
   "metadata": {},
   "outputs": [
    {
     "name": "stdout",
     "output_type": "stream",
     "text": [
      "nextHostIndex >>> 5\n",
      "nextSwitchIndex >>> 3\n"
     ]
    }
   ],
   "source": [
    "import redis\n",
    "ip = '127.0.0.1'\n",
    "r = redis.Redis(host=ip, port=6379, db = 2, decode_responses=True)\n",
    "keys = r.keys()\n",
    "for k in keys:\n",
    "    print(\"{} >>> {}\".format(k,r.get(k)))"
   ]
  },
  {
   "cell_type": "markdown",
   "metadata": {},
   "source": [
    "### routingTable"
   ]
  },
  {
   "cell_type": "code",
   "execution_count": 29,
   "metadata": {},
   "outputs": [
    {
     "name": "stdout",
     "output_type": "stream",
     "text": [
      "1 >>> {'ea:1e:02:78:a3:4a': '3', '00:00:00:00:00:02': '2', '00:00:00:00:00:01': '1'}\n"
     ]
    }
   ],
   "source": [
    "import redis\n",
    "ip = '127.0.0.1'\n",
    "r = redis.Redis(host=ip, port=6379, db = 3, decode_responses=True)\n",
    "key_list = r.keys('*')\n",
    "for keys in key_list:\n",
    "    print(\"{} >>> {}\".format(keys, r.hgetall(keys)))"
   ]
  },
  {
   "cell_type": "code",
   "execution_count": 75,
   "metadata": {},
   "outputs": [
    {
     "data": {
      "text/plain": [
       "True"
      ]
     },
     "execution_count": 75,
     "metadata": {},
     "output_type": "execute_result"
    }
   ],
   "source": [
    "r.flushall()"
   ]
  }
 ],
 "metadata": {
  "kernelspec": {
   "display_name": "Python 3.8.10 64-bit",
   "language": "python",
   "name": "python3"
  },
  "language_info": {
   "codemirror_mode": {
    "name": "ipython",
    "version": 3
   },
   "file_extension": ".py",
   "mimetype": "text/x-python",
   "name": "python",
   "nbconvert_exporter": "python",
   "pygments_lexer": "ipython3",
   "version": "3.8.10"
  },
  "orig_nbformat": 4,
  "vscode": {
   "interpreter": {
    "hash": "916dbcbb3f70747c44a77c7bcd40155683ae19c65e1c03b4aa3499c5328201f1"
   }
  }
 },
 "nbformat": 4,
 "nbformat_minor": 2
}
