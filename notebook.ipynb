{
 "cells": [
  {
   "cell_type": "markdown",
   "metadata": {},
   "source": [
    "## Shell"
   ]
  },
  {
   "cell_type": "markdown",
   "metadata": {},
   "source": [
    "### initialization"
   ]
  },
  {
   "cell_type": "code",
   "execution_count": null,
   "metadata": {},
   "outputs": [],
   "source": [
    "sudo python3 init.py"
   ]
  },
  {
   "cell_type": "markdown",
   "metadata": {},
   "source": [
    "### infrastructure"
   ]
  },
  {
   "cell_type": "markdown",
   "metadata": {},
   "source": [
    "#### Networks"
   ]
  },
  {
   "cell_type": "code",
   "execution_count": null,
   "metadata": {},
   "outputs": [],
   "source": [
    "sudo python3 network.py net1.conf info"
   ]
  },
  {
   "cell_type": "code",
   "execution_count": null,
   "metadata": {},
   "outputs": [],
   "source": [
    "sudo python3 network.py net2.conf info"
   ]
  },
  {
   "cell_type": "markdown",
   "metadata": {},
   "source": [
    "#### Switches"
   ]
  },
  {
   "cell_type": "code",
   "execution_count": null,
   "metadata": {},
   "outputs": [],
   "source": [
    "sudo ovs-ofctl -O OpenFlow15 dump-flows s1"
   ]
  },
  {
   "cell_type": "code",
   "execution_count": null,
   "metadata": {},
   "outputs": [],
   "source": [
    "sudo ovs-vsctl set-fail-mode s1 standalone"
   ]
  },
  {
   "cell_type": "markdown",
   "metadata": {},
   "source": [
    "### control"
   ]
  },
  {
   "cell_type": "code",
   "execution_count": null,
   "metadata": {},
   "outputs": [],
   "source": [
    "ryu-manager --ofp-tcp-listen-port 6001 --wsapi-port 50001 --config-file c1.conf controller.py ryu.app.ofctl_rest"
   ]
  },
  {
   "cell_type": "code",
   "execution_count": null,
   "metadata": {},
   "outputs": [],
   "source": [
    "ryu-manager --ofp-tcp-listen-port 6002 --wsapi-port 50002 --config-file c2.conf controller.py ryu.app.ofctl_rest"
   ]
  },
  {
   "cell_type": "code",
   "execution_count": null,
   "metadata": {},
   "outputs": [],
   "source": [
    "ryu-manager --ofp-tcp-listen-port 6003 --wsapi-port 50003 --config-file c3.conf controller.py ryu.app.ofctl_rest"
   ]
  },
  {
   "cell_type": "code",
   "execution_count": null,
   "metadata": {},
   "outputs": [],
   "source": [
    "ryu-manager --ofp-tcp-listen-port 6004 --wsapi-port 50004 --config-file c4.conf controller.py ryu.app.ofctl_rest"
   ]
  },
  {
   "cell_type": "markdown",
   "metadata": {},
   "source": [
    "# Redis DBS"
   ]
  },
  {
   "cell_type": "markdown",
   "metadata": {},
   "source": [
    "### controllers"
   ]
  },
  {
   "cell_type": "code",
   "execution_count": 127,
   "metadata": {},
   "outputs": [],
   "source": [
    "import redis\n",
    "ip = '127.0.0.1'\n",
    "r = redis.Redis(host=ip, port=6379, db = 0, decode_responses=True)"
   ]
  },
  {
   "cell_type": "code",
   "execution_count": 47,
   "metadata": {},
   "outputs": [
    {
     "name": "stdout",
     "output_type": "stream",
     "text": [
      "c4\n",
      "c2\n",
      "c3\n",
      "c1\n"
     ]
    }
   ],
   "source": [
    "r.keys()\n",
    "for x in r.keys():\n",
    "    print(x)"
   ]
  },
  {
   "cell_type": "code",
   "execution_count": 33,
   "metadata": {},
   "outputs": [],
   "source": [
    "d = {}\n",
    "\n",
    "for x in d:\n",
    "    print(x)\n"
   ]
  },
  {
   "cell_type": "code",
   "execution_count": null,
   "metadata": {},
   "outputs": [],
   "source": []
  },
  {
   "cell_type": "code",
   "execution_count": 22,
   "metadata": {},
   "outputs": [
    {
     "name": "stdout",
     "output_type": "stream",
     "text": [
      "abc\n",
      "def\n"
     ]
    }
   ],
   "source": [
    "for x in d[1]:\n",
    "    print(x[\"datapath\"])"
   ]
  },
  {
   "cell_type": "markdown",
   "metadata": {},
   "source": [
    "### networks"
   ]
  },
  {
   "cell_type": "code",
   "execution_count": 148,
   "metadata": {},
   "outputs": [
    {
     "name": "stdout",
     "output_type": "stream",
     "text": [
      "2 >>> {'c3': \"{'port': b'6003', 'reqs': 51, 'connected': 0}\", 'c4': \"{'port': b'6004', 'reqs': 82, 'connected': 0}\", 'datapaths': \"['3', '4']\", 'masterCredits': '1'}\n",
      "1 >>> {'c1': \"{'port': b'6001', 'reqs': 49, 'connected': 0}\", 'c2': \"{'port': b'6002', 'reqs': 62, 'connected': 0}\", 'datapaths': \"['1', '2']\", 'masterCredits': '1'}\n"
     ]
    }
   ],
   "source": [
    "import redis\n",
    "ip = '127.0.0.1'\n",
    "r = redis.Redis(host=ip, port=6379, db = 1, decode_responses=True)\n",
    "key_list = r.keys('*')\n",
    "for keys in key_list:\n",
    "    print(\"{} >>> {}\".format(keys, r.hgetall(keys)))"
   ]
  },
  {
   "cell_type": "code",
   "execution_count": 134,
   "metadata": {},
   "outputs": [
    {
     "data": {
      "text/plain": [
       "{'c1': \"{'port': b'6001', 'reqs': 46, 'connected': 1}\",\n",
       " 'c2': \"{'port': b'6002', 'reqs': 47, 'connected': 1}\",\n",
       " 'datapaths': \"['1', '2']\",\n",
       " 'masterCredits': '0',\n",
       " 'currentMaster': '6001'}"
      ]
     },
     "execution_count": 134,
     "metadata": {},
     "output_type": "execute_result"
    }
   ],
   "source": [
    "c = r.hgetall(1)\n",
    "c"
   ]
  },
  {
   "cell_type": "code",
   "execution_count": 43,
   "metadata": {},
   "outputs": [
    {
     "name": "stdout",
     "output_type": "stream",
     "text": [
      "c1\n",
      "c2\n",
      "datapaths\n",
      "masterCredits\n",
      "currentMaster\n"
     ]
    }
   ],
   "source": [
    "import ast\n",
    "\n",
    "c = r.hgetall(1)\n",
    "for x in c:\n",
    "    d = ast.literal_eval(c[x])\n",
    "    print(x)"
   ]
  },
  {
   "cell_type": "code",
   "execution_count": 253,
   "metadata": {},
   "outputs": [
    {
     "name": "stdout",
     "output_type": "stream",
     "text": [
      "1\n",
      "2\n"
     ]
    }
   ],
   "source": [
    "networks = r.keys()\n",
    "\n",
    "for network in networks:\n",
    "    if r.hget(network,\"datapaths\") != None:\n",
    "        d = r.hget(network,\"datapaths\")\n",
    "        datapaths = ast.literal_eval(d)\n",
    "\n",
    "for datapath in datapaths:\n",
    "    print(datapath)"
   ]
  },
  {
   "cell_type": "code",
   "execution_count": 242,
   "metadata": {},
   "outputs": [],
   "source": [
    "c = r.hgetall(1)\n",
    "d = ast.literal_eval(c[\"datapaths\"])"
   ]
  },
  {
   "cell_type": "code",
   "execution_count": 173,
   "metadata": {},
   "outputs": [
    {
     "name": "stdout",
     "output_type": "stream",
     "text": [
      "['1', '2']\n",
      "['1', '2']\n"
     ]
    },
    {
     "data": {
      "text/plain": [
       "'1'"
      ]
     },
     "execution_count": 173,
     "metadata": {},
     "output_type": "execute_result"
    }
   ],
   "source": [
    "s = []\n",
    "s.append(\"1\")\n",
    "s.append(\"2\")\n",
    "print(str(s))\n",
    "r.hset(1,\"datapaths\",str(s))\n",
    "\n",
    "d = r.hget(1,\"datapaths\")\n",
    "print(d)\n",
    "\n",
    "o = ast.literal_eval(d)\n",
    "o[0]"
   ]
  },
  {
   "cell_type": "code",
   "execution_count": 152,
   "metadata": {},
   "outputs": [
    {
     "name": "stdout",
     "output_type": "stream",
     "text": [
      "1\n",
      "1\n"
     ]
    }
   ],
   "source": [
    "networks = r.keys()\n",
    "\n",
    "for network in networks:\n",
    "    print(r.hget(network,\"masterCredits\"))\n",
    "            "
   ]
  },
  {
   "cell_type": "code",
   "execution_count": 137,
   "metadata": {},
   "outputs": [
    {
     "ename": "TypeError",
     "evalue": "string indices must be integers",
     "output_type": "error",
     "traceback": [
      "\u001b[0;31m---------------------------------------------------------------------------\u001b[0m",
      "\u001b[0;31mTypeError\u001b[0m                                 Traceback (most recent call last)",
      "\u001b[1;32m/home/igorradichi/Documents/TCC/sdn-multicontrollers/notebook.ipynb Cell 21'\u001b[0m in \u001b[0;36m<cell line: 3>\u001b[0;34m()\u001b[0m\n\u001b[1;32m      <a href='vscode-notebook-cell:/home/igorradichi/Documents/TCC/sdn-multicontrollers/notebook.ipynb#ch0000032?line=2'>3</a>\u001b[0m \u001b[39mfor\u001b[39;00m s \u001b[39min\u001b[39;00m c:\n\u001b[1;32m      <a href='vscode-notebook-cell:/home/igorradichi/Documents/TCC/sdn-multicontrollers/notebook.ipynb#ch0000032?line=3'>4</a>\u001b[0m     d \u001b[39m=\u001b[39m c[s]\n\u001b[0;32m----> <a href='vscode-notebook-cell:/home/igorradichi/Documents/TCC/sdn-multicontrollers/notebook.ipynb#ch0000032?line=4'>5</a>\u001b[0m     d[\u001b[39m\"\u001b[39;49m\u001b[39mport\u001b[39;49m\u001b[39m\"\u001b[39;49m]\n",
      "\u001b[0;31mTypeError\u001b[0m: string indices must be integers"
     ]
    }
   ],
   "source": [
    "import ast\n",
    "c = r.hgetall(\"1\")\n",
    "for s in c:\n",
    "    d = c[s]\n",
    "    d[\"port\"]"
   ]
  },
  {
   "cell_type": "code",
   "execution_count": 130,
   "metadata": {},
   "outputs": [
    {
     "name": "stdout",
     "output_type": "stream",
     "text": [
      "{'port': b'6001', 'inThisNetwork': 'True', 'role': 'slave'}\n",
      "{'port': b'6002', 'inThisNetwork': 'True', 'role': 'slave'}\n"
     ]
    }
   ],
   "source": [
    "c = r.hgetall(\"1\")\n",
    "#print(c)\n",
    "for s in c:\n",
    "    print(c[s])\n",
    "    d = ast.literal_eval(c[s])\n",
    "    #print(d)"
   ]
  },
  {
   "cell_type": "markdown",
   "metadata": {},
   "source": [
    "### namespaces"
   ]
  },
  {
   "cell_type": "code",
   "execution_count": 140,
   "metadata": {},
   "outputs": [
    {
     "name": "stdout",
     "output_type": "stream",
     "text": [
      "namespaces >>> {'nextSwitchIndex': '1', 'nextHostIndex': '1'}\n"
     ]
    }
   ],
   "source": [
    "import redis\n",
    "ip = '127.0.0.1'\n",
    "r = redis.Redis(host=ip, port=6379, db = 2, decode_responses=True)\n",
    "key_list = r.keys('*')\n",
    "for keys in key_list:\n",
    "    print(\"{} >>> {}\".format(keys, r.hgetall(keys)))"
   ]
  },
  {
   "cell_type": "markdown",
   "metadata": {},
   "source": [
    "### routingTable"
   ]
  },
  {
   "cell_type": "code",
   "execution_count": 131,
   "metadata": {},
   "outputs": [
    {
     "name": "stdout",
     "output_type": "stream",
     "text": [
      "b'2' >>> {b'00:00:00:00:00:04': b'2', b'00:00:00:00:00:01': b'3', b'f6:b6:89:ff:3a:05': b'3', b'00:00:00:00:00:03': b'1', b'00:00:00:00:00:02': b'3', b'0e:c2:07:93:3d:c9': b'3', b'de:43:06:17:e0:5a': b'3', b'62:07:f5:28:ee:ca': b'3', b'a6:d0:4b:4f:5a:55': b'3', b'62:e5:32:5a:2d:0a': b'3', b'52:8e:b4:71:a9:55': b'3', b'36:db:11:d9:04:25': b'3', b'ee:29:c0:f5:0f:0f': b'3', b'2e:2e:85:5e:55:06': b'3', b'aa:be:e9:d3:63:ec': b'3', b'1a:ea:a7:1a:cb:a1': b'3', b'66:37:67:f2:59:f5': b'3', b'16:22:8a:d6:d4:53': b'3', b'a6:fc:7b:34:39:b1': b'3', b'2e:16:49:4e:93:37': b'3', b'1e:3d:3f:4a:0f:b0': b'3', b'56:00:91:df:06:e6': b'3', b'ee:ec:86:97:f1:85': b'3', b'b2:3f:36:a9:a9:ca': b'3', b'ee:88:2e:31:c4:97': b'3', b'4a:28:82:9b:67:0d': b'3', b'9a:5f:1d:da:bd:c0': b'3', b'7e:2d:9e:81:7f:08': b'3', b'ba:42:53:db:bc:11': b'3', b'16:0f:7d:36:10:96': b'3', b'2a:bf:24:ff:46:1b': b'3', b'46:29:9f:b6:f7:bc': b'3', b'4a:35:b9:5b:26:84': b'3', b'b2:a8:66:ac:24:24': b'3', b'7e:05:86:76:9f:79': b'3'}\n",
      "b'3' >>> {b'00:00:00:00:00:08': b'3', b'00:00:00:00:00:05': b'1', b'00:00:00:00:00:07': b'3', b'7a:69:cc:91:19:7b': b'3', b'00:00:00:00:00:06': b'2'}\n",
      "b'1' >>> {b'00:00:00:00:00:01': b'1', b'00:00:00:00:00:04': b'3', b'2e:19:2f:25:82:c2': b'3', b'00:00:00:00:00:03': b'3', b'00:00:00:00:00:02': b'2', b'd2:b8:28:c0:4b:ac': b'3', b'ca:9f:87:e4:58:7e': b'3', b'b6:af:4c:90:69:65': b'3', b'ee:7a:e3:37:8e:6a': b'3', b'76:19:4c:44:bd:8a': b'3', b'5e:d0:a1:74:93:04': b'3', b'46:ac:58:fb:e8:65': b'3', b'5a:a3:cd:be:77:c6': b'3', b'6e:08:c5:2e:ff:26': b'3', b'96:5e:c0:aa:62:3a': b'3', b'9a:15:06:7c:d8:7c': b'3', b'4e:02:62:57:4b:9f': b'3', b'3e:f4:38:43:95:4e': b'3', b'06:c2:49:97:d8:b0': b'3', b'02:e2:c3:5e:7b:a8': b'3', b'c6:d3:48:d4:0e:37': b'3', b'46:0e:9a:be:34:3c': b'3', b'fe:a5:0b:be:27:03': b'3', b'ca:8c:0d:3d:1a:95': b'3', b'1a:f0:d6:6a:c5:03': b'3', b'f6:ee:5c:a6:70:0d': b'3', b'36:33:92:e6:44:ce': b'3', b'b2:81:aa:f4:23:c3': b'3', b'86:a4:d4:a1:a2:19': b'3', b'6a:33:29:2e:ad:49': b'3', b'ea:df:4f:8b:d0:ba': b'3', b'42:91:62:f4:69:ce': b'3', b'0e:c7:f7:6b:5f:55': b'3', b'5a:c0:77:28:16:63': b'3', b'0e:2e:f7:89:6a:9e': b'3'}\n",
      "b'4' >>> {b'ce:57:b4:94:80:0b': b'3', b'00:00:00:00:00:08': b'2', b'00:00:00:00:00:07': b'1', b'00:00:00:00:00:05': b'3', b'00:00:00:00:00:06': b'3'}\n"
     ]
    }
   ],
   "source": [
    "import redis\n",
    "ip = '127.0.0.1'\n",
    "r = redis.Redis(host=ip, port=6379, db = 3)\n",
    "key_list = r.keys('*')\n",
    "for keys in key_list:\n",
    "    print(\"{} >>> {}\".format(keys, r.hgetall(keys)))"
   ]
  },
  {
   "cell_type": "code",
   "execution_count": 74,
   "metadata": {},
   "outputs": [
    {
     "ename": "ResponseError",
     "evalue": "WRONGTYPE Operation against a key holding the wrong kind of value",
     "output_type": "error",
     "traceback": [
      "\u001b[0;31m---------------------------------------------------------------------------\u001b[0m",
      "\u001b[0;31mResponseError\u001b[0m                             Traceback (most recent call last)",
      "\u001b[1;32m/home/igorradichi/Documents/TCC/sdn-multicontrollers/notebook.ipynb Cell 26'\u001b[0m in \u001b[0;36m<cell line: 5>\u001b[0;34m()\u001b[0m\n\u001b[1;32m      <a href='vscode-notebook-cell:/home/igorradichi/Documents/TCC/sdn-multicontrollers/notebook.ipynb#ch0000025?line=3'>4</a>\u001b[0m key_list \u001b[39m=\u001b[39m r\u001b[39m.\u001b[39mkeys(\u001b[39m'\u001b[39m\u001b[39m*\u001b[39m\u001b[39m'\u001b[39m)\n\u001b[1;32m      <a href='vscode-notebook-cell:/home/igorradichi/Documents/TCC/sdn-multicontrollers/notebook.ipynb#ch0000025?line=4'>5</a>\u001b[0m \u001b[39mfor\u001b[39;00m keys \u001b[39min\u001b[39;00m key_list:\n\u001b[0;32m----> <a href='vscode-notebook-cell:/home/igorradichi/Documents/TCC/sdn-multicontrollers/notebook.ipynb#ch0000025?line=5'>6</a>\u001b[0m     \u001b[39mprint\u001b[39m(\u001b[39m\"\u001b[39m\u001b[39m{}\u001b[39;00m\u001b[39m >>> \u001b[39m\u001b[39m{}\u001b[39;00m\u001b[39m\"\u001b[39m\u001b[39m.\u001b[39mformat(keys, r\u001b[39m.\u001b[39;49mhgetall(keys)))\n",
      "File \u001b[0;32m~/.local/lib/python3.8/site-packages/redis/commands/core.py:4770\u001b[0m, in \u001b[0;36mHashCommands.hgetall\u001b[0;34m(self, name)\u001b[0m\n\u001b[1;32m   4764\u001b[0m \u001b[39mdef\u001b[39;00m \u001b[39mhgetall\u001b[39m(\u001b[39mself\u001b[39m, name: \u001b[39mstr\u001b[39m) \u001b[39m-\u001b[39m\u001b[39m>\u001b[39m Union[Awaitable[\u001b[39mdict\u001b[39m], \u001b[39mdict\u001b[39m]:\n\u001b[1;32m   4765\u001b[0m     \u001b[39m\"\"\"\u001b[39;00m\n\u001b[1;32m   4766\u001b[0m \u001b[39m    Return a Python dict of the hash's name/value pairs\u001b[39;00m\n\u001b[1;32m   4767\u001b[0m \n\u001b[1;32m   4768\u001b[0m \u001b[39m    For more information see https://redis.io/commands/hgetall\u001b[39;00m\n\u001b[1;32m   4769\u001b[0m \u001b[39m    \"\"\"\u001b[39;00m\n\u001b[0;32m-> 4770\u001b[0m     \u001b[39mreturn\u001b[39;00m \u001b[39mself\u001b[39;49m\u001b[39m.\u001b[39;49mexecute_command(\u001b[39m\"\u001b[39;49m\u001b[39mHGETALL\u001b[39;49m\u001b[39m\"\u001b[39;49m, name)\n",
      "File \u001b[0;32m~/.local/lib/python3.8/site-packages/redis/client.py:1235\u001b[0m, in \u001b[0;36mRedis.execute_command\u001b[0;34m(self, *args, **options)\u001b[0m\n\u001b[1;32m   1232\u001b[0m conn \u001b[39m=\u001b[39m \u001b[39mself\u001b[39m\u001b[39m.\u001b[39mconnection \u001b[39mor\u001b[39;00m pool\u001b[39m.\u001b[39mget_connection(command_name, \u001b[39m*\u001b[39m\u001b[39m*\u001b[39moptions)\n\u001b[1;32m   1234\u001b[0m \u001b[39mtry\u001b[39;00m:\n\u001b[0;32m-> 1235\u001b[0m     \u001b[39mreturn\u001b[39;00m conn\u001b[39m.\u001b[39;49mretry\u001b[39m.\u001b[39;49mcall_with_retry(\n\u001b[1;32m   1236\u001b[0m         \u001b[39mlambda\u001b[39;49;00m: \u001b[39mself\u001b[39;49m\u001b[39m.\u001b[39;49m_send_command_parse_response(\n\u001b[1;32m   1237\u001b[0m             conn, command_name, \u001b[39m*\u001b[39;49margs, \u001b[39m*\u001b[39;49m\u001b[39m*\u001b[39;49moptions\n\u001b[1;32m   1238\u001b[0m         ),\n\u001b[1;32m   1239\u001b[0m         \u001b[39mlambda\u001b[39;49;00m error: \u001b[39mself\u001b[39;49m\u001b[39m.\u001b[39;49m_disconnect_raise(conn, error),\n\u001b[1;32m   1240\u001b[0m     )\n\u001b[1;32m   1241\u001b[0m \u001b[39mfinally\u001b[39;00m:\n\u001b[1;32m   1242\u001b[0m     \u001b[39mif\u001b[39;00m \u001b[39mnot\u001b[39;00m \u001b[39mself\u001b[39m\u001b[39m.\u001b[39mconnection:\n",
      "File \u001b[0;32m~/.local/lib/python3.8/site-packages/redis/retry.py:46\u001b[0m, in \u001b[0;36mRetry.call_with_retry\u001b[0;34m(self, do, fail)\u001b[0m\n\u001b[1;32m     44\u001b[0m \u001b[39mwhile\u001b[39;00m \u001b[39mTrue\u001b[39;00m:\n\u001b[1;32m     45\u001b[0m     \u001b[39mtry\u001b[39;00m:\n\u001b[0;32m---> 46\u001b[0m         \u001b[39mreturn\u001b[39;00m do()\n\u001b[1;32m     47\u001b[0m     \u001b[39mexcept\u001b[39;00m \u001b[39mself\u001b[39m\u001b[39m.\u001b[39m_supported_errors \u001b[39mas\u001b[39;00m error:\n\u001b[1;32m     48\u001b[0m         failures \u001b[39m+\u001b[39m\u001b[39m=\u001b[39m \u001b[39m1\u001b[39m\n",
      "File \u001b[0;32m~/.local/lib/python3.8/site-packages/redis/client.py:1236\u001b[0m, in \u001b[0;36mRedis.execute_command.<locals>.<lambda>\u001b[0;34m()\u001b[0m\n\u001b[1;32m   1232\u001b[0m conn \u001b[39m=\u001b[39m \u001b[39mself\u001b[39m\u001b[39m.\u001b[39mconnection \u001b[39mor\u001b[39;00m pool\u001b[39m.\u001b[39mget_connection(command_name, \u001b[39m*\u001b[39m\u001b[39m*\u001b[39moptions)\n\u001b[1;32m   1234\u001b[0m \u001b[39mtry\u001b[39;00m:\n\u001b[1;32m   1235\u001b[0m     \u001b[39mreturn\u001b[39;00m conn\u001b[39m.\u001b[39mretry\u001b[39m.\u001b[39mcall_with_retry(\n\u001b[0;32m-> 1236\u001b[0m         \u001b[39mlambda\u001b[39;00m: \u001b[39mself\u001b[39;49m\u001b[39m.\u001b[39;49m_send_command_parse_response(\n\u001b[1;32m   1237\u001b[0m             conn, command_name, \u001b[39m*\u001b[39;49margs, \u001b[39m*\u001b[39;49m\u001b[39m*\u001b[39;49moptions\n\u001b[1;32m   1238\u001b[0m         ),\n\u001b[1;32m   1239\u001b[0m         \u001b[39mlambda\u001b[39;00m error: \u001b[39mself\u001b[39m\u001b[39m.\u001b[39m_disconnect_raise(conn, error),\n\u001b[1;32m   1240\u001b[0m     )\n\u001b[1;32m   1241\u001b[0m \u001b[39mfinally\u001b[39;00m:\n\u001b[1;32m   1242\u001b[0m     \u001b[39mif\u001b[39;00m \u001b[39mnot\u001b[39;00m \u001b[39mself\u001b[39m\u001b[39m.\u001b[39mconnection:\n",
      "File \u001b[0;32m~/.local/lib/python3.8/site-packages/redis/client.py:1212\u001b[0m, in \u001b[0;36mRedis._send_command_parse_response\u001b[0;34m(self, conn, command_name, *args, **options)\u001b[0m\n\u001b[1;32m   1208\u001b[0m \u001b[39m\"\"\"\u001b[39;00m\n\u001b[1;32m   1209\u001b[0m \u001b[39mSend a command and parse the response\u001b[39;00m\n\u001b[1;32m   1210\u001b[0m \u001b[39m\"\"\"\u001b[39;00m\n\u001b[1;32m   1211\u001b[0m conn\u001b[39m.\u001b[39msend_command(\u001b[39m*\u001b[39margs)\n\u001b[0;32m-> 1212\u001b[0m \u001b[39mreturn\u001b[39;00m \u001b[39mself\u001b[39;49m\u001b[39m.\u001b[39;49mparse_response(conn, command_name, \u001b[39m*\u001b[39;49m\u001b[39m*\u001b[39;49moptions)\n",
      "File \u001b[0;32m~/.local/lib/python3.8/site-packages/redis/client.py:1251\u001b[0m, in \u001b[0;36mRedis.parse_response\u001b[0;34m(self, connection, command_name, **options)\u001b[0m\n\u001b[1;32m   1249\u001b[0m         response \u001b[39m=\u001b[39m connection\u001b[39m.\u001b[39mread_response(disable_decoding\u001b[39m=\u001b[39m\u001b[39mTrue\u001b[39;00m)\n\u001b[1;32m   1250\u001b[0m     \u001b[39melse\u001b[39;00m:\n\u001b[0;32m-> 1251\u001b[0m         response \u001b[39m=\u001b[39m connection\u001b[39m.\u001b[39;49mread_response()\n\u001b[1;32m   1252\u001b[0m \u001b[39mexcept\u001b[39;00m ResponseError:\n\u001b[1;32m   1253\u001b[0m     \u001b[39mif\u001b[39;00m EMPTY_RESPONSE \u001b[39min\u001b[39;00m options:\n",
      "File \u001b[0;32m~/.local/lib/python3.8/site-packages/redis/connection.py:837\u001b[0m, in \u001b[0;36mConnection.read_response\u001b[0;34m(self, disable_decoding)\u001b[0m\n\u001b[1;32m    834\u001b[0m     \u001b[39mself\u001b[39m\u001b[39m.\u001b[39mnext_health_check \u001b[39m=\u001b[39m time() \u001b[39m+\u001b[39m \u001b[39mself\u001b[39m\u001b[39m.\u001b[39mhealth_check_interval\n\u001b[1;32m    836\u001b[0m \u001b[39mif\u001b[39;00m \u001b[39misinstance\u001b[39m(response, ResponseError):\n\u001b[0;32m--> 837\u001b[0m     \u001b[39mraise\u001b[39;00m response\n\u001b[1;32m    838\u001b[0m \u001b[39mreturn\u001b[39;00m response\n",
      "\u001b[0;31mResponseError\u001b[0m: WRONGTYPE Operation against a key holding the wrong kind of value"
     ]
    }
   ],
   "source": [
    "import redis\n",
    "ip = '127.0.0.1'\n",
    "r = redis.Redis(host=ip, port=6379, db = 0, decode_responses=True)\n",
    "key_list = r.keys('*')\n",
    "for keys in key_list:\n",
    "    print(\"{} >>> {}\".format(keys, r.hgetall(keys)))"
   ]
  },
  {
   "cell_type": "code",
   "execution_count": 73,
   "metadata": {},
   "outputs": [],
   "source": [
    "import redis\n",
    "ip = '127.0.0.1'\n",
    "r = redis.Redis(host=ip, port=6379, db = 0, decode_responses=True)"
   ]
  },
  {
   "cell_type": "code",
   "execution_count": 54,
   "metadata": {},
   "outputs": [],
   "source": [
    "c1 = {\n",
    "    'port': 6001,\n",
    "    'status': 'ON',\n",
    "    'connected': \"True\",\n",
    "    'role': 'master'\n",
    "}\n",
    "\n",
    "c1_str = str(c1)"
   ]
  },
  {
   "cell_type": "code",
   "execution_count": 58,
   "metadata": {},
   "outputs": [
    {
     "data": {
      "text/plain": [
       "1"
      ]
     },
     "execution_count": 58,
     "metadata": {},
     "output_type": "execute_result"
    }
   ],
   "source": [
    "r.hset(\"1\",\"c1\",c1_str)"
   ]
  },
  {
   "cell_type": "code",
   "execution_count": 64,
   "metadata": {},
   "outputs": [
    {
     "data": {
      "text/plain": [
       "{'port': 6001, 'status': 'ON', 'connected': True, 'role': 'master'}"
      ]
     },
     "execution_count": 64,
     "metadata": {},
     "output_type": "execute_result"
    }
   ],
   "source": [
    "import ast\n",
    "\n",
    "d = r.hget(\"1\",\"c1\")\n",
    "d = ast.literal_eval(d)\n",
    "d[\"port\"]\n",
    "d"
   ]
  },
  {
   "cell_type": "code",
   "execution_count": 75,
   "metadata": {},
   "outputs": [
    {
     "data": {
      "text/plain": [
       "True"
      ]
     },
     "execution_count": 75,
     "metadata": {},
     "output_type": "execute_result"
    }
   ],
   "source": [
    "r.flushall()"
   ]
  }
 ],
 "metadata": {
  "kernelspec": {
   "display_name": "Python 3.8.10 64-bit",
   "language": "python",
   "name": "python3"
  },
  "language_info": {
   "codemirror_mode": {
    "name": "ipython",
    "version": 3
   },
   "file_extension": ".py",
   "mimetype": "text/x-python",
   "name": "python",
   "nbconvert_exporter": "python",
   "pygments_lexer": "ipython3",
   "version": "3.8.10"
  },
  "orig_nbformat": 4,
  "vscode": {
   "interpreter": {
    "hash": "916dbcbb3f70747c44a77c7bcd40155683ae19c65e1c03b4aa3499c5328201f1"
   }
  }
 },
 "nbformat": 4,
 "nbformat_minor": 2
}
