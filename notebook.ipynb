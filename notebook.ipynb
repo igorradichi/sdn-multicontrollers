{
 "cells": [
  {
   "cell_type": "markdown",
   "metadata": {},
   "source": [
    "## Shell"
   ]
  },
  {
   "cell_type": "markdown",
   "metadata": {},
   "source": [
    "### initialization"
   ]
  },
  {
   "cell_type": "code",
   "execution_count": null,
   "metadata": {},
   "outputs": [],
   "source": [
    "sudo python3 init.py"
   ]
  },
  {
   "cell_type": "markdown",
   "metadata": {},
   "source": [
    "### infrastructure"
   ]
  },
  {
   "cell_type": "markdown",
   "metadata": {},
   "source": [
    "#### Networks"
   ]
  },
  {
   "cell_type": "code",
   "execution_count": null,
   "metadata": {},
   "outputs": [],
   "source": [
    "sudo python3 network.py net1.conf info"
   ]
  },
  {
   "cell_type": "code",
   "execution_count": null,
   "metadata": {},
   "outputs": [],
   "source": [
    "sudo python3 network.py net2.conf info"
   ]
  },
  {
   "cell_type": "markdown",
   "metadata": {},
   "source": [
    "#### Switches"
   ]
  },
  {
   "cell_type": "code",
   "execution_count": null,
   "metadata": {},
   "outputs": [],
   "source": [
    "sudo ovs-ofctl -O OpenFlow15 dump-flows s1"
   ]
  },
  {
   "cell_type": "code",
   "execution_count": null,
   "metadata": {},
   "outputs": [],
   "source": [
    "sudo ovs-vsctl set-fail-mode s1 standalone"
   ]
  },
  {
   "cell_type": "markdown",
   "metadata": {},
   "source": [
    "### control"
   ]
  },
  {
   "cell_type": "code",
   "execution_count": null,
   "metadata": {},
   "outputs": [],
   "source": [
    "ryu-manager --ofp-tcp-listen-port 6001 --wsapi-port 50001 --config-file c1.conf controller.py ryu.app.ofctl_rest"
   ]
  },
  {
   "cell_type": "code",
   "execution_count": null,
   "metadata": {},
   "outputs": [],
   "source": [
    "ryu-manager --ofp-tcp-listen-port 6002 --wsapi-port 50002 --config-file c2.conf controller.py ryu.app.ofctl_rest"
   ]
  },
  {
   "cell_type": "code",
   "execution_count": null,
   "metadata": {},
   "outputs": [],
   "source": [
    "ryu-manager --ofp-tcp-listen-port 6003 --wsapi-port 50003 --config-file c3.conf controller.py ryu.app.ofctl_rest"
   ]
  },
  {
   "cell_type": "code",
   "execution_count": null,
   "metadata": {},
   "outputs": [],
   "source": [
    "ryu-manager --ofp-tcp-listen-port 6004 --wsapi-port 50004 --config-file c4.conf controller.py ryu.app.ofctl_rest"
   ]
  },
  {
   "cell_type": "markdown",
   "metadata": {},
   "source": [
    "# Redis DBS"
   ]
  },
  {
   "cell_type": "markdown",
   "metadata": {},
   "source": [
    "### experiments"
   ]
  },
  {
   "cell_type": "code",
   "execution_count": 48,
   "metadata": {},
   "outputs": [
    {
     "name": "stdout",
     "output_type": "stream",
     "text": [
      "2 >>> {'start': '0'}\n",
      "experiment >>> {'running': '1'}\n",
      "1 >>> {'start': '1', 'failTime': '2', 'host': 'h3', 'nPackets': '4', 'hostsNames': \"['h1', 'h2', 'h3', 'h4']\", 'hostsIPs': \"['10.0.0.1', '10.0.0.2', '10.0.0.3', '10.0.0.4']\", 'clockMasterFail': '1666127496.3571496', 'clockMasterRecovery': '1666127498.2369525'}\n"
     ]
    }
   ],
   "source": [
    "import redis\n",
    "ip = '127.0.0.1'\n",
    "r = redis.Redis(host=ip, port=6379, db = 4, decode_responses=True)\n",
    "key_list = r.keys('*')\n",
    "for keys in key_list:\n",
    "    print(\"{} >>> {}\".format(keys, r.hgetall(keys)))"
   ]
  },
  {
   "cell_type": "markdown",
   "metadata": {},
   "source": [
    "Start Experiment 1"
   ]
  },
  {
   "cell_type": "code",
   "execution_count": 47,
   "metadata": {},
   "outputs": [
    {
     "data": {
      "text/plain": [
       "0"
      ]
     },
     "execution_count": 47,
     "metadata": {},
     "output_type": "execute_result"
    }
   ],
   "source": [
    "import redis\n",
    "ip = '127.0.0.1'\n",
    "r = redis.Redis(host=ip, port=6379, db = 4, decode_responses=True)\n",
    "r.hset(\"1\",\"start\",1)"
   ]
  },
  {
   "cell_type": "markdown",
   "metadata": {},
   "source": [
    "Start Experiment 2"
   ]
  },
  {
   "cell_type": "code",
   "execution_count": 9,
   "metadata": {},
   "outputs": [
    {
     "data": {
      "text/plain": [
       "'15'"
      ]
     },
     "execution_count": 9,
     "metadata": {},
     "output_type": "execute_result"
    }
   ],
   "source": [
    "import redis\n",
    "ip = '127.0.0.1'\n",
    "r = redis.Redis(host=ip, port=6379, db = 4, decode_responses=True)\n",
    "r.hset(\"2\",\"start\",1)"
   ]
  },
  {
   "cell_type": "markdown",
   "metadata": {},
   "source": [
    "kill controller by port"
   ]
  },
  {
   "cell_type": "code",
   "execution_count": null,
   "metadata": {},
   "outputs": [],
   "source": [
    "sudo kill -9 `sudo lsof -t -i:6001`"
   ]
  },
  {
   "cell_type": "markdown",
   "metadata": {},
   "source": [
    "### controllers"
   ]
  },
  {
   "cell_type": "code",
   "execution_count": 1,
   "metadata": {},
   "outputs": [
    {
     "name": "stdout",
     "output_type": "stream",
     "text": [
      "c3 >>> 6003\n",
      "c2 >>> 6002\n",
      "c4 >>> 6004\n",
      "c1 >>> 6001\n"
     ]
    }
   ],
   "source": [
    "import redis\n",
    "ip = '127.0.0.1'\n",
    "r = redis.Redis(host=ip, port=6379, db = 0, decode_responses=True)\n",
    "keys = r.keys()\n",
    "for k in keys:\n",
    "    print(\"{} >>> {}\".format(k,r.get(k)))"
   ]
  },
  {
   "cell_type": "markdown",
   "metadata": {},
   "source": [
    "### networks"
   ]
  },
  {
   "cell_type": "code",
   "execution_count": 2,
   "metadata": {},
   "outputs": [
    {
     "name": "stdout",
     "output_type": "stream",
     "text": [
      "1 >>> {'c1': \"{'port': '6001', 'reqs': 1048, 'connected': 1}\", 'c2': \"{'port': '6002', 'reqs': 1033, 'connected': 0}\", 'datapaths': \"['1', '2', '3', '4']\", 'masterCredits': '4'}\n",
      "2 >>> {'c3': \"{'port': '6003', 'reqs': 627, 'connected': 1}\", 'c4': \"{'port': '6004', 'reqs': 651, 'connected': 1}\", 'datapaths': \"['5', '6', '7', '8', '9', '10']\", 'masterCredits': '0', 'currentMaster': '6003'}\n"
     ]
    }
   ],
   "source": [
    "import redis\n",
    "ip = '127.0.0.1'\n",
    "r = redis.Redis(host=ip, port=6379, db = 1, decode_responses=True)\n",
    "key_list = r.keys('*')\n",
    "for keys in key_list:\n",
    "    print(\"{} >>> {}\".format(keys, r.hgetall(keys)))"
   ]
  },
  {
   "cell_type": "code",
   "execution_count": 3,
   "metadata": {},
   "outputs": [
    {
     "data": {
      "text/plain": [
       "1"
      ]
     },
     "execution_count": 3,
     "metadata": {},
     "output_type": "execute_result"
    }
   ],
   "source": [
    "controllers = redis.Redis(host=ip,port=6379,db=0)\n",
    "\n",
    "c = {\n",
    "    'port': \"6003\",\n",
    "    'reqs': 0\n",
    "}\n",
    "\n",
    "r.hset(1,\"c3\",str(c))"
   ]
  },
  {
   "cell_type": "markdown",
   "metadata": {},
   "source": [
    "### namespaces"
   ]
  },
  {
   "cell_type": "code",
   "execution_count": 4,
   "metadata": {},
   "outputs": [
    {
     "name": "stdout",
     "output_type": "stream",
     "text": [
      "nextSwitchIndex >>> 11\n",
      "nextHostIndex >>> 15\n"
     ]
    }
   ],
   "source": [
    "import redis\n",
    "ip = '127.0.0.1'\n",
    "r = redis.Redis(host=ip, port=6379, db = 2, decode_responses=True)\n",
    "keys = r.keys()\n",
    "for k in keys:\n",
    "    print(\"{} >>> {}\".format(k,r.get(k)))"
   ]
  },
  {
   "cell_type": "markdown",
   "metadata": {},
   "source": [
    "### routingTable"
   ]
  },
  {
   "cell_type": "code",
   "execution_count": 5,
   "metadata": {},
   "outputs": [
    {
     "name": "stdout",
     "output_type": "stream",
     "text": [
      "7 >>> {'d2:5b:ec:40:53:76': '2', '52:3d:68:8d:83:ad': '3', '9a:b5:3f:2a:d2:74': '2', 'a2:82:91:fd:72:5a': '3', 'ae:ab:98:d7:cd:ae': '3', '00:00:00:00:00:0e': '3', '00:00:00:00:00:0b': '1', '00:00:00:00:00:0a': '2', '00:00:00:00:00:09': '2', '00:00:00:00:00:0c': '3', '00:00:00:00:00:0d': '3'}\n",
      "10 >>> {'8e:e9:a4:50:74:0e': '2', 'd2:5b:ec:40:53:76': '2', '1e:ee:67:f8:92:af': '2', '9a:b5:3f:2a:d2:74': '2', 'b6:44:93:fc:d2:3b': '2', '00:00:00:00:00:0e': '1', '00:00:00:00:00:0b': '2', '00:00:00:00:00:0a': '2', '00:00:00:00:00:09': '2', '00:00:00:00:00:0c': '2', '00:00:00:00:00:0d': '2'}\n",
      "6 >>> {'6e:57:4a:aa:47:6b': '3', '52:3d:68:8d:83:ad': '3', '9a:b5:3f:2a:d2:74': '2', 'a2:82:91:fd:72:5a': '3', 'ae:ab:98:d7:cd:ae': '3', '00:00:00:00:00:0e': '3', '00:00:00:00:00:0a': '1', '00:00:00:00:00:0b': '3', '00:00:00:00:00:09': '2', '00:00:00:00:00:0c': '3', '00:00:00:00:00:0d': '3'}\n",
      "9 >>> {'d2:5b:ec:40:53:76': '2', '1e:ee:67:f8:92:af': '2', '52:3d:68:8d:83:ad': '3', '9a:b5:3f:2a:d2:74': '2', 'b6:44:93:fc:d2:3b': '2', '00:00:00:00:00:0e': '3', '00:00:00:00:00:0b': '2', '00:00:00:00:00:0a': '2', '00:00:00:00:00:09': '2', '00:00:00:00:00:0c': '2', '00:00:00:00:00:0d': '1'}\n",
      "5 >>> {'22:74:1f:44:dc:9e': '2', '6e:57:4a:aa:47:6b': '2', '52:3d:68:8d:83:ad': '2', 'a2:82:91:fd:72:5a': '2', 'ae:ab:98:d7:cd:ae': '2', '00:00:00:00:00:0e': '2', '00:00:00:00:00:09': '1', '00:00:00:00:00:0a': '2', '00:00:00:00:00:0b': '2', '00:00:00:00:00:0c': '2', '00:00:00:00:00:0d': '2'}\n",
      "3 >>> {'00:00:00:00:00:01': '3', '00:00:00:00:00:05': '1', '00:00:00:00:00:06': '2', '00:00:00:00:00:07': '4', '00:00:00:00:00:08': '4', '00:00:00:00:00:02': '3', '00:00:00:00:00:03': '3', '00:00:00:00:00:04': '3', '8e:5f:b9:43:ea:97': '4', '26:68:e3:f4:db:a0': '3', '86:56:6d:11:70:41': '3'}\n",
      "8 >>> {'d2:5b:ec:40:53:76': '2', '52:3d:68:8d:83:ad': '3', '9a:b5:3f:2a:d2:74': '2', 'b6:44:93:fc:d2:3b': '2', 'ae:ab:98:d7:cd:ae': '3', '00:00:00:00:00:0e': '3', '00:00:00:00:00:0b': '2', '00:00:00:00:00:0a': '2', '00:00:00:00:00:09': '2', '00:00:00:00:00:0c': '1', '00:00:00:00:00:0d': '3'}\n",
      "1 >>> {'00:00:00:00:00:01': '1', '00:00:00:00:00:02': '2', '00:00:00:00:00:03': '3', '00:00:00:00:00:04': '3', '00:00:00:00:00:05': '3', '00:00:00:00:00:06': '3', '00:00:00:00:00:07': '3', '00:00:00:00:00:08': '3', '8e:5f:b9:43:ea:97': '3', '72:40:c3:e1:38:a0': '3', 'b6:e5:1e:9b:bf:7d': '3'}\n",
      "4 >>> {'00:00:00:00:00:01': '3', '00:00:00:00:00:07': '1', '00:00:00:00:00:08': '2', '00:00:00:00:00:02': '3', '00:00:00:00:00:03': '3', '00:00:00:00:00:04': '3', '00:00:00:00:00:05': '3', '00:00:00:00:00:06': '3', '26:68:e3:f4:db:a0': '3', '56:de:96:45:52:f6': '3', '86:56:6d:11:70:41': '3'}\n",
      "2 >>> {'00:00:00:00:00:01': '3', '00:00:00:00:00:03': '1', '00:00:00:00:00:04': '2', '00:00:00:00:00:05': '4', '00:00:00:00:00:06': '4', '00:00:00:00:00:07': '4', '00:00:00:00:00:08': '4', '00:00:00:00:00:02': '3', '26:68:e3:f4:db:a0': '3', '8e:5f:b9:43:ea:97': '4', '72:40:c3:e1:38:a0': '4'}\n"
     ]
    }
   ],
   "source": [
    "import redis\n",
    "ip = '127.0.0.1'\n",
    "r = redis.Redis(host=ip, port=6379, db = 3, decode_responses=True)\n",
    "key_list = r.keys('*')\n",
    "for keys in key_list:\n",
    "    print(\"{} >>> {}\".format(keys, r.hgetall(keys)))"
   ]
  },
  {
   "cell_type": "code",
   "execution_count": 75,
   "metadata": {},
   "outputs": [
    {
     "data": {
      "text/plain": [
       "True"
      ]
     },
     "execution_count": 75,
     "metadata": {},
     "output_type": "execute_result"
    }
   ],
   "source": [
    "r.flushall()"
   ]
  }
 ],
 "metadata": {
  "kernelspec": {
   "display_name": "Python 3.8.10 64-bit",
   "language": "python",
   "name": "python3"
  },
  "language_info": {
   "codemirror_mode": {
    "name": "ipython",
    "version": 3
   },
   "file_extension": ".py",
   "mimetype": "text/x-python",
   "name": "python",
   "nbconvert_exporter": "python",
   "pygments_lexer": "ipython3",
   "version": "3.8.10"
  },
  "orig_nbformat": 4,
  "vscode": {
   "interpreter": {
    "hash": "916dbcbb3f70747c44a77c7bcd40155683ae19c65e1c03b4aa3499c5328201f1"
   }
  }
 },
 "nbformat": 4,
 "nbformat_minor": 2
}
