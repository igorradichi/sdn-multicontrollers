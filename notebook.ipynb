{
 "cells": [
  {
   "cell_type": "markdown",
   "metadata": {},
   "source": [
    "## Shell"
   ]
  },
  {
   "cell_type": "markdown",
   "metadata": {},
   "source": [
    "### initialization"
   ]
  },
  {
   "cell_type": "code",
   "execution_count": null,
   "metadata": {},
   "outputs": [],
   "source": [
    "sudo python3 init.py"
   ]
  },
  {
   "cell_type": "markdown",
   "metadata": {},
   "source": [
    "### infrastructure"
   ]
  },
  {
   "cell_type": "markdown",
   "metadata": {},
   "source": [
    "#### Networks"
   ]
  },
  {
   "cell_type": "code",
   "execution_count": null,
   "metadata": {},
   "outputs": [],
   "source": [
    "sudo python3 network.py net1.conf info"
   ]
  },
  {
   "cell_type": "code",
   "execution_count": null,
   "metadata": {},
   "outputs": [],
   "source": [
    "sudo python3 network.py net2.conf info"
   ]
  },
  {
   "cell_type": "markdown",
   "metadata": {},
   "source": [
    "#### Switches"
   ]
  },
  {
   "cell_type": "code",
   "execution_count": null,
   "metadata": {},
   "outputs": [],
   "source": [
    "sudo ovs-ofctl -O OpenFlow15 dump-flows s1"
   ]
  },
  {
   "cell_type": "code",
   "execution_count": null,
   "metadata": {},
   "outputs": [],
   "source": [
    "sudo ovs-vsctl set-fail-mode s1 standalone"
   ]
  },
  {
   "cell_type": "markdown",
   "metadata": {},
   "source": [
    "### control"
   ]
  },
  {
   "cell_type": "code",
   "execution_count": null,
   "metadata": {},
   "outputs": [],
   "source": [
    "ryu-manager --ofp-tcp-listen-port 6001 --wsapi-port 50001 --config-file c1.conf controller.py ryu.app.ofctl_rest"
   ]
  },
  {
   "cell_type": "code",
   "execution_count": null,
   "metadata": {},
   "outputs": [],
   "source": [
    "ryu-manager --ofp-tcp-listen-port 6002 --wsapi-port 50002 --config-file c2.conf controller.py ryu.app.ofctl_rest"
   ]
  },
  {
   "cell_type": "code",
   "execution_count": null,
   "metadata": {},
   "outputs": [],
   "source": [
    "ryu-manager --ofp-tcp-listen-port 6003 --wsapi-port 50003 --config-file c3.conf controller.py ryu.app.ofctl_rest"
   ]
  },
  {
   "cell_type": "code",
   "execution_count": null,
   "metadata": {},
   "outputs": [],
   "source": [
    "ryu-manager --ofp-tcp-listen-port 6004 --wsapi-port 50004 --config-file c4.conf controller.py ryu.app.ofctl_rest"
   ]
  },
  {
   "cell_type": "markdown",
   "metadata": {},
   "source": [
    "# Redis DBS"
   ]
  },
  {
   "cell_type": "markdown",
   "metadata": {},
   "source": [
    "### network"
   ]
  },
  {
   "cell_type": "code",
   "execution_count": 401,
   "metadata": {},
   "outputs": [
    {
     "name": "stdout",
     "output_type": "stream",
     "text": [
      "b'network' >>> {b'nextControllerPort': b'6005', b'nextControllerIndex': b'5', b'nextSwitchIndex': b'5', b'nextHostIndex': b'9'}\n"
     ]
    }
   ],
   "source": [
    "import redis\n",
    "ip = '127.0.0.1'\n",
    "r = redis.Redis(host=ip, port=6379, db = 0)\n",
    "key_list = r.keys('*')\n",
    "for keys in key_list:\n",
    "    print(\"{} >>> {}\".format(keys, r.hgetall(keys)))"
   ]
  },
  {
   "cell_type": "markdown",
   "metadata": {},
   "source": [
    "### cluster"
   ]
  },
  {
   "cell_type": "code",
   "execution_count": 1,
   "metadata": {},
   "outputs": [
    {
     "name": "stdout",
     "output_type": "stream",
     "text": [
      "b'2' >>> {b'6003': b'87', b'6004': b'87', b'masterCredits': b'0', b'currentMaster': b'6003'}\n",
      "b'1' >>> {b'6001': b'64', b'6002': b'67', b'masterCredits': b'0', b'currentMaster': b'6001'}\n"
     ]
    }
   ],
   "source": [
    "import redis\n",
    "ip = '127.0.0.1'\n",
    "r = redis.Redis(host=ip, port=6379, db = 1)\n",
    "key_list = r.keys('*')\n",
    "for keys in key_list:\n",
    "    print(\"{} >>> {}\".format(keys, r.hgetall(keys)))"
   ]
  },
  {
   "cell_type": "markdown",
   "metadata": {},
   "source": [
    "### connections"
   ]
  },
  {
   "cell_type": "code",
   "execution_count": 399,
   "metadata": {},
   "outputs": [
    {
     "name": "stdout",
     "output_type": "stream",
     "text": [
      "b'1' >>> {b'6001': b'1', b'6002': b'1'}\n",
      "b'2' >>> {b'6003': b'1', b'6004': b'1'}\n"
     ]
    }
   ],
   "source": [
    "import redis\n",
    "ip = '127.0.0.1'\n",
    "r = redis.Redis(host=ip, port=6379, db = 2)\n",
    "key_list = r.keys('*')\n",
    "for keys in key_list:\n",
    "    print(\"{} >>> {}\".format(keys, r.hgetall(keys)))"
   ]
  },
  {
   "cell_type": "markdown",
   "metadata": {},
   "source": [
    "### routingTable"
   ]
  },
  {
   "cell_type": "code",
   "execution_count": 400,
   "metadata": {},
   "outputs": [
    {
     "name": "stdout",
     "output_type": "stream",
     "text": [
      "b'3' >>> {b'ca:53:90:ea:50:6e': b'3', b'00:00:00:00:00:05': b'1', b'00:00:00:00:00:06': b'2', b'00:00:00:00:00:08': b'3', b'00:00:00:00:00:07': b'3'}\n",
      "b'1' >>> {b'a2:07:b4:1f:d5:67': b'3', b'00:00:00:00:00:02': b'2', b'00:00:00:00:00:01': b'1', b'00:00:00:00:00:03': b'3', b'00:00:00:00:00:04': b'3'}\n",
      "b'2' >>> {b'fe:33:70:a7:5e:8c': b'3', b'00:00:00:00:00:02': b'3', b'00:00:00:00:00:01': b'3', b'00:00:00:00:00:03': b'1', b'00:00:00:00:00:04': b'2'}\n",
      "b'4' >>> {b'06:a9:52:bf:d8:f1': b'3', b'00:00:00:00:00:05': b'3', b'00:00:00:00:00:08': b'2', b'00:00:00:00:00:07': b'1', b'00:00:00:00:00:06': b'3'}\n"
     ]
    }
   ],
   "source": [
    "import redis\n",
    "ip = '127.0.0.1'\n",
    "r = redis.Redis(host=ip, port=6379, db = 3)\n",
    "key_list = r.keys('*')\n",
    "for keys in key_list:\n",
    "    print(\"{} >>> {}\".format(keys, r.hgetall(keys)))"
   ]
  },
  {
   "cell_type": "code",
   "execution_count": 213,
   "metadata": {},
   "outputs": [
    {
     "data": {
      "text/plain": [
       "True"
      ]
     },
     "execution_count": 213,
     "metadata": {},
     "output_type": "execute_result"
    }
   ],
   "source": [
    "r.flushall()"
   ]
  }
 ],
 "metadata": {
  "kernelspec": {
   "display_name": "Python 3.8.10 64-bit",
   "language": "python",
   "name": "python3"
  },
  "language_info": {
   "codemirror_mode": {
    "name": "ipython",
    "version": 3
   },
   "file_extension": ".py",
   "mimetype": "text/x-python",
   "name": "python",
   "nbconvert_exporter": "python",
   "pygments_lexer": "ipython3",
   "version": "3.8.10"
  },
  "orig_nbformat": 4,
  "vscode": {
   "interpreter": {
    "hash": "916dbcbb3f70747c44a77c7bcd40155683ae19c65e1c03b4aa3499c5328201f1"
   }
  }
 },
 "nbformat": 4,
 "nbformat_minor": 2
}
