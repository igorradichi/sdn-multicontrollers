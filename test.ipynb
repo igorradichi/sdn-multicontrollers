{
 "cells": [
  {
   "cell_type": "code",
   "execution_count": 5,
   "metadata": {},
   "outputs": [
    {
     "name": "stdout",
     "output_type": "stream",
     "text": [
      "b'network' >>> {b'nextControllerPort': b'6003', b'nextControllerIndex': b'3', b'nextSwitchIndex': b'3', b'nextHostIndex': b'11'}\n"
     ]
    }
   ],
   "source": [
    "import redis\n",
    "ip = '127.0.0.1'\n",
    "r = redis.Redis(host=ip, port=6379, db = 0)\n",
    "key_list = r.keys('*')\n",
    "for keys in key_list:\n",
    "    print(\"{} >>> {}\".format(keys, r.hgetall(keys)))"
   ]
  },
  {
   "cell_type": "code",
   "execution_count": 101,
   "metadata": {},
   "outputs": [
    {
     "name": "stdout",
     "output_type": "stream",
     "text": [
      "b'1' >>> {b'credits': b'0', b'port': b'6002'}\n",
      "b'2' >>> {b'credits': b'0', b'port': b'6003'}\n"
     ]
    }
   ],
   "source": [
    "import redis\n",
    "ip = '127.0.0.1'\n",
    "r = redis.Redis(host=ip, port=6379, db = 1)\n",
    "key_list = r.keys('*')\n",
    "for keys in key_list:\n",
    "    print(\"{} >>> {}\".format(keys, r.hgetall(keys)))"
   ]
  },
  {
   "cell_type": "code",
   "execution_count": 8,
   "metadata": {},
   "outputs": [
    {
     "name": "stdout",
     "output_type": "stream",
     "text": [
      "b'1' >>> {b'6633': b'0', b'6634': b'0'}\n",
      "b'2' >>> {b'6635': b'0', b'6636': b'0'}\n"
     ]
    }
   ],
   "source": [
    "import redis\n",
    "ip = '127.0.0.1'\n",
    "r = redis.Redis(host=ip, port=6379, db = 2)\n",
    "key_list = r.keys('*')\n",
    "for keys in key_list:\n",
    "    print(\"{} >>> {}\".format(keys, r.hgetall(keys)))"
   ]
  },
  {
   "cell_type": "code",
   "execution_count": 78,
   "metadata": {},
   "outputs": [
    {
     "name": "stdout",
     "output_type": "stream",
     "text": [
      "b'1' >>> {b'00:00:00:00:00:02': b'2', b'e2:30:8a:c9:af:3b': b'3', b'00:00:00:00:00:01': b'1', b'00:00:00:00:00:03': b'3', b'00:00:00:00:00:04': b'3'}\n",
      "b'3' >>> {b'22:2c:b9:e4:29:f8': b'3', b'00:00:00:00:00:05': b'1', b'00:00:00:00:00:06': b'2', b'00:00:00:00:00:07': b'3', b'00:00:00:00:00:08': b'3'}\n",
      "b'2' >>> {b'8a:01:09:4c:af:06': b'3', b'00:00:00:00:00:02': b'3', b'00:00:00:00:00:01': b'3', b'00:00:00:00:00:03': b'1', b'00:00:00:00:00:04': b'2'}\n",
      "b'4' >>> {b'a2:a1:fa:ce:90:b6': b'3', b'00:00:00:00:00:05': b'3', b'00:00:00:00:00:07': b'1', b'00:00:00:00:00:08': b'2', b'00:00:00:00:00:06': b'3'}\n"
     ]
    }
   ],
   "source": [
    "import redis\n",
    "ip = '127.0.0.1'\n",
    "r = redis.Redis(host=ip, port=6379, db = 3)\n",
    "key_list = r.keys('*')\n",
    "for keys in key_list:\n",
    "    print(\"{} >>> {}\".format(keys, r.hgetall(keys)))"
   ]
  },
  {
   "cell_type": "code",
   "execution_count": 213,
   "metadata": {},
   "outputs": [
    {
     "data": {
      "text/plain": [
       "True"
      ]
     },
     "execution_count": 213,
     "metadata": {},
     "output_type": "execute_result"
    }
   ],
   "source": [
    "r.flushall()"
   ]
  }
 ],
 "metadata": {
  "kernelspec": {
   "display_name": "Python 3.8.10 64-bit",
   "language": "python",
   "name": "python3"
  },
  "language_info": {
   "codemirror_mode": {
    "name": "ipython",
    "version": 3
   },
   "file_extension": ".py",
   "mimetype": "text/x-python",
   "name": "python",
   "nbconvert_exporter": "python",
   "pygments_lexer": "ipython3",
   "version": "3.8.10"
  },
  "orig_nbformat": 4,
  "vscode": {
   "interpreter": {
    "hash": "916dbcbb3f70747c44a77c7bcd40155683ae19c65e1c03b4aa3499c5328201f1"
   }
  }
 },
 "nbformat": 4,
 "nbformat_minor": 2
}
