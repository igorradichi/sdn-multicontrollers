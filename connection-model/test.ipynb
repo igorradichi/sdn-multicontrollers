{
 "cells": [
  {
   "cell_type": "code",
   "execution_count": 218,
   "metadata": {},
   "outputs": [
    {
     "name": "stdout",
     "output_type": "stream",
     "text": [
      "b'network' >>> {b'nextControllerPort': b'6633', b'nextControllerIndex': b'0', b'nextSwitchIndex': b'0', b'nextHostIndex': b'0'}\n"
     ]
    }
   ],
   "source": [
    "import redis\n",
    "ip = '127.0.0.1'\n",
    "r = redis.Redis(host=ip, port=6379, db = 0)\n",
    "key_list = r.keys('*')\n",
    "for keys in key_list:\n",
    "    print(\"{} >>> {}\".format(keys, r.hgetall(keys)))"
   ]
  },
  {
   "cell_type": "code",
   "execution_count": 187,
   "metadata": {},
   "outputs": [
    {
     "name": "stdout",
     "output_type": "stream",
     "text": [
      "1\n"
     ]
    }
   ],
   "source": [
    "import redis\n",
    "ip = '127.0.0.1'\n",
    "r = redis.Redis(host=ip, port=6379, db = 0)\n",
    "r.hset(\"c0\",\"netId\",1)\n",
    "\n",
    "for k in r.hvals(\"c0\"):\n",
    "    print(int(k))\n",
    "#r.hvals(\"c0\",r.hkeys(\"c0\"))\n"
   ]
  },
  {
   "cell_type": "code",
   "execution_count": null,
   "metadata": {},
   "outputs": [],
   "source": [
    "v = r.hvals(\"c0\")\n",
    "for i in v:\n",
    "    print(int(i))"
   ]
  },
  {
   "cell_type": "code",
   "execution_count": 216,
   "metadata": {},
   "outputs": [],
   "source": [
    "import redis\n",
    "ip = '127.0.0.1'\n",
    "r = redis.Redis(host=ip, port=6379, db = 1)\n",
    "key_list = r.keys('*')\n",
    "for keys in key_list:\n",
    "    print(\"{} >>> {}\".format(keys, r.hgetall(keys)))"
   ]
  },
  {
   "cell_type": "code",
   "execution_count": 208,
   "metadata": {},
   "outputs": [
    {
     "data": {
      "text/plain": [
       "b'6633'"
      ]
     },
     "execution_count": 208,
     "metadata": {},
     "output_type": "execute_result"
    }
   ],
   "source": [
    "r.hget(\"1\",\"port\")"
   ]
  },
  {
   "cell_type": "code",
   "execution_count": 217,
   "metadata": {},
   "outputs": [
    {
     "name": "stdout",
     "output_type": "stream",
     "text": [
      "b'6636' >>> {b'up': b'0'}\n",
      "b'6634' >>> {b'up': b'0'}\n",
      "b'6633' >>> {b'up': b'1'}\n",
      "b'6635' >>> {b'up': b'1'}\n"
     ]
    }
   ],
   "source": [
    "import redis\n",
    "ip = '127.0.0.1'\n",
    "r = redis.Redis(host=ip, port=6379, db = 2)\n",
    "key_list = r.keys('*')\n",
    "for keys in key_list:\n",
    "    print(\"{} >>> {}\".format(keys, r.hgetall(keys)))"
   ]
  },
  {
   "cell_type": "code",
   "execution_count": 215,
   "metadata": {},
   "outputs": [
    {
     "name": "stdout",
     "output_type": "stream",
     "text": [
      "b'95106065761095' >>> {b'1a:85:11:54:15:28': b'3', b'00:00:00:00:00:01': b'1', b'00:00:00:00:00:02': b'2', b'00:00:00:00:00:03': b'3', b'00:00:00:00:00:04': b'3'}\n",
      "b'2' >>> {b'16:b8:8f:e0:59:32': b'3', b'00:00:00:00:00:04': b'3', b'00:00:00:00:00:01': b'1', b'00:00:00:00:00:02': b'2', b'00:00:00:00:00:03': b'3'}\n",
      "b'1' >>> {b'86:5a:dd:23:e7:ec': b'3', b'00:00:00:00:00:01': b'3', b'00:00:00:00:00:03': b'1', b'00:00:00:00:00:04': b'2', b'00:00:00:00:00:02': b'3'}\n",
      "b'3' >>> {b'2e:bc:12:25:58:f9': b'3', b'00:00:00:00:00:04': b'2', b'00:00:00:00:00:03': b'1', b'00:00:00:00:00:01': b'3', b'00:00:00:00:00:02': b'3'}\n"
     ]
    }
   ],
   "source": [
    "import redis\n",
    "ip = '127.0.0.1'\n",
    "r = redis.Redis(host=ip, port=6379, db = 3)\n",
    "key_list = r.keys('*')\n",
    "for keys in key_list:\n",
    "    print(\"{} >>> {}\".format(keys, r.hgetall(keys)))"
   ]
  },
  {
   "cell_type": "code",
   "execution_count": 213,
   "metadata": {},
   "outputs": [
    {
     "data": {
      "text/plain": [
       "True"
      ]
     },
     "execution_count": 213,
     "metadata": {},
     "output_type": "execute_result"
    }
   ],
   "source": [
    "r.flushall()"
   ]
  }
 ],
 "metadata": {
  "kernelspec": {
   "display_name": "Python 3.8.10 64-bit",
   "language": "python",
   "name": "python3"
  },
  "language_info": {
   "codemirror_mode": {
    "name": "ipython",
    "version": 3
   },
   "file_extension": ".py",
   "mimetype": "text/x-python",
   "name": "python",
   "nbconvert_exporter": "python",
   "pygments_lexer": "ipython3",
   "version": "3.8.10"
  },
  "orig_nbformat": 4,
  "vscode": {
   "interpreter": {
    "hash": "916dbcbb3f70747c44a77c7bcd40155683ae19c65e1c03b4aa3499c5328201f1"
   }
  }
 },
 "nbformat": 4,
 "nbformat_minor": 2
}
