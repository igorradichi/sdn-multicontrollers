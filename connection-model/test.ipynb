{
 "cells": [
  {
   "cell_type": "code",
   "execution_count": 32,
   "metadata": {},
   "outputs": [
    {
     "name": "stdout",
     "output_type": "stream",
     "text": [
      "b'1' >>> {b'00:00:00:00:00:01': b'1', b'00:00:00:00:00:03': b'3', b'00:00:00:00:00:04': b'4', b'00:00:00:00:00:02': b'2'}\n"
     ]
    }
   ],
   "source": [
    "import redis\n",
    "ip = '127.0.0.1'\n",
    "r = redis.Redis(host=ip, port=6379, db = 0)\n",
    "key_list = r.keys('*')\n",
    "for keys in key_list:\n",
    "    print(\"{} >>> {}\".format(keys, r.hgetall(keys)))"
   ]
  },
  {
   "cell_type": "code",
   "execution_count": 31,
   "metadata": {},
   "outputs": [
    {
     "name": "stdout",
     "output_type": "stream",
     "text": [
      "b'master' >>> {b'credits': b'0', b'port': b'6633'}\n"
     ]
    }
   ],
   "source": [
    "import redis\n",
    "ip = '127.0.0.1'\n",
    "r = redis.Redis(host=ip, port=6379, db = 1)\n",
    "key_list = r.keys('*')\n",
    "for keys in key_list:\n",
    "    print(\"{} >>> {}\".format(keys, r.hgetall(keys)))"
   ]
  },
  {
   "cell_type": "code",
   "execution_count": 9,
   "metadata": {},
   "outputs": [
    {
     "data": {
      "text/plain": [
       "True"
      ]
     },
     "execution_count": 9,
     "metadata": {},
     "output_type": "execute_result"
    }
   ],
   "source": [
    "r.flushall()"
   ]
  }
 ],
 "metadata": {
  "kernelspec": {
   "display_name": "Python 3.8.10 64-bit",
   "language": "python",
   "name": "python3"
  },
  "language_info": {
   "codemirror_mode": {
    "name": "ipython",
    "version": 3
   },
   "file_extension": ".py",
   "mimetype": "text/x-python",
   "name": "python",
   "nbconvert_exporter": "python",
   "pygments_lexer": "ipython3",
   "version": "3.8.10"
  },
  "orig_nbformat": 4,
  "vscode": {
   "interpreter": {
    "hash": "916dbcbb3f70747c44a77c7bcd40155683ae19c65e1c03b4aa3499c5328201f1"
   }
  }
 },
 "nbformat": 4,
 "nbformat_minor": 2
}
